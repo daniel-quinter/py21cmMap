{
 "cells": [
  {
   "cell_type": "markdown",
   "id": "49cca8d7",
   "metadata": {},
   "source": [
    "## This notebook + script uses astropy-healpix in order to discretize the sphere."
   ]
  },
  {
   "cell_type": "code",
   "execution_count": 4,
   "id": "cf7c28c5",
   "metadata": {},
   "outputs": [],
   "source": [
    "import numpy as np\n",
    "from astropy import cosmology\n",
    "import astropy_healpix\n",
    "from astropy_healpix import HEALPix\n",
    "import astropy.cosmology\n",
    "from astropy.cosmology import Planck18 as cosmo\n",
    "import astropy.units as unit\n",
    "import argparse\n",
    "import os\n",
    "import pickle\n",
    "from matplotlib import pyplot as plt\n",
    "\n",
    "from pathlib import Path\n",
    "\n",
    "f21 = 1.420405751e9 * unit.Hz\n"
   ]
  },
  {
   "cell_type": "code",
   "execution_count": 5,
   "id": "d6f6feb7",
   "metadata": {},
   "outputs": [],
   "source": [
    "# Define frequency/redshift range being probed, as well as the number of shells.\n",
    "\n",
    "start_freq = 1.6e8\n",
    "end_freq = 1.8e8\n",
    "Nfreqs = 32\n",
    "start_freq *= unit.Hz\n",
    "end_freq *= unit.Hz\n",
    "\n",
    "freqs = np.linspace(start_freq, end_freq, Nfreqs)\n",
    "\n",
    "redshifts = (f21 / freqs) - 1\n",
    "z_order = np.argsort(redshifts)\n",
    "f_order = np.argsort(freqs)\n",
    "redshifts = redshifts[z_order]\n",
    "redshifts = redshifts.to_value()\n",
    "freqs = freqs[z_order]\n",
    "min_redshift = np.min(redshifts)"
   ]
  },
  {
   "cell_type": "code",
   "execution_count": 6,
   "id": "85066287",
   "metadata": {},
   "outputs": [],
   "source": [
    "# data cube of shape (pts_per_side, pts_per_side, pts_per_side), typically a 21cmFAST coeval cube\n",
    "# but can also be, for instance, a user-generated np.random.normal(var = variance, size = (pts_per_side, pts_per_side, pts_per_side))\n",
    "data_cube = np.load(\"z7_45_res100_len1000.npy\")"
   ]
  },
  {
   "cell_type": "markdown",
   "id": "189017a8",
   "metadata": {},
   "source": [
    "## Algorithm for calculating the nearest point in the cube (and its value) for each point on a shell"
   ]
  },
  {
   "cell_type": "code",
   "execution_count": 7,
   "id": "223b8ca8",
   "metadata": {},
   "outputs": [],
   "source": [
    "# round_base(x, prec, base):\n",
    "#    Rounds value x to the nearest integer multiple of base, with precision prec\n",
    "def round_base(x, prec, base):     \n",
    "    return (base * (np.array(x) / base).round()).round(prec)\n",
    "\n",
    "\n",
    "#  nearest_cube_pt(x, y, z, cube_length, cube_res):\n",
    "#      Input : \n",
    "#           x (float), y (float), z (float): coordinates of the shell point being mapped onto, units of [Mpc]\n",
    "#           cube_length (int): comoving length of one side of the input data cube, units of [Mpc]\n",
    "#           cube_res (int): number of points per side of the input data cube\n",
    "#\n",
    "#      Returns the nearest point of a cube with cube_length and cube_res\n",
    "#      to point on the shell with coordinates (x, y, z).\n",
    "# \n",
    "#      Assumes that cubes are uniformly tiled throughout the larger volume, such that (x y z) % cube_length is guaranteed\n",
    "#      to give the coordinates of the input sphere point relative to the origin of the cube.\n",
    "\n",
    "def nearest_cube_pt(x, y, z, cube_length, cube_res): \n",
    "    \n",
    "    arr = np.array([x, y, z]) % cube_length\n",
    "    nearest = round_base(arr, 5, cube_length / cube_res)\n",
    "    nearest = (nearest * (cube_res / cube_length)).astype(int)\n",
    "    \n",
    "    # Imposes periodicity: if the index of any of the coordinates of the nearest cube point equals the max index + 1,\n",
    "    #    set this index to 0, effectively \"wrapping around\" the cube\n",
    "    nearest[nearest == cube_res] = 0\n",
    "    \n",
    "    return nearest\n",
    "\n",
    "# cosm_plot(redshift, nside, cube_length, data_cube):\n",
    "#      Input: \n",
    "#           redshift (float)\n",
    "#           nside (int): desired shell resolution. Must be a power of 2, # of pixels on a shell = nside ^ 2 * 12\n",
    "#           cube_length (int): comoving length of one side of the input data cube, units of [Mpc]\n",
    "#           data_cube (numpy array, shape = (cube_res, cube_res, cube_res))\n",
    "#\n",
    "#      Returns a numpy array of the value of each point in the data cube nearest to each point on the shell, \n",
    "#           shape = (npix, 1)\n",
    "\n",
    "def cosm_plot(redshift, nside, cube_length, data_cube):\n",
    "    # cube_length in Mpc\n",
    "    \n",
    "    cube_res = data_cube.shape[0]\n",
    "    \n",
    "    hp = HEALPix(nside=nside)\n",
    "    x, y, z = astropy_healpix.healpix_to_xyz(np.arange(hp.npix), nside = hp.nside)\n",
    "\n",
    "    r_s = cosmology.Planck18.comoving_distance(redshift)\n",
    "    xs = np.array(x * r_s)\n",
    "    ys = np.array(y * r_s)\n",
    "    zs = np.array(z * r_s)\n",
    "    shell = np.array([xs, ys, zs]).T\n",
    "    \n",
    "    nearest_arr = nearest_cube_pt(xs, ys, zs, cube_length, cube_res)\n",
    "    \n",
    "    return data_cube[nearest_arr[0], nearest_arr[1], nearest_arr[2]]"
   ]
  },
  {
   "cell_type": "markdown",
   "id": "91154a97",
   "metadata": {},
   "source": [
    "## We run the algorithm on all shells across the redshift range of interest, returning an array of shape (nfreqs, npix = nside^2 * 12)"
   ]
  },
  {
   "cell_type": "code",
   "execution_count": 8,
   "id": "03e28447",
   "metadata": {},
   "outputs": [],
   "source": [
    "\n",
    "nside = 256\n",
    "cube_len = 1000 # Mpc\n",
    "\n",
    "mapped_vals = [cosm_plot(redshift, nside, cube_len, data_cube) for redshift in redshifts]"
   ]
  },
  {
   "cell_type": "code",
   "execution_count": null,
   "id": "df351cd5",
   "metadata": {},
   "outputs": [],
   "source": []
  }
 ],
 "metadata": {
  "kernelspec": {
   "display_name": "dq21",
   "language": "python",
   "name": "dq21"
  },
  "language_info": {
   "codemirror_mode": {
    "name": "ipython",
    "version": 3
   },
   "file_extension": ".py",
   "mimetype": "text/x-python",
   "name": "python",
   "nbconvert_exporter": "python",
   "pygments_lexer": "ipython3",
   "version": "3.11.7"
  }
 },
 "nbformat": 4,
 "nbformat_minor": 5
}
