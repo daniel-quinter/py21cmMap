{
 "cells": [
  {
   "cell_type": "code",
   "execution_count": 1,
   "id": "fc1b5be1",
   "metadata": {},
   "outputs": [],
   "source": [
    "import numpy as np\n",
    "import os\n",
    "import scipy\n",
    "from matplotlib import pyplot as plt\n",
    "import healpy as hp\n",
    "from astropy.cosmology import Planck18 as cosmo\n",
    "import astropy.units as unit\n",
    "import scipy.integrate as integrate\n",
    "from scipy.interpolate import interp1d\n",
    "\n",
    "f21 = 1.420405751e9 * unit.Hz"
   ]
  },
  {
   "cell_type": "markdown",
   "id": "e32bdf0b",
   "metadata": {},
   "source": [
    "### Load shells as calculated from the mapping notebook. If the shells have resolution ~nside 1024 or greater, it may be necessary to load the shells individually into the notebook and then combine them into a single array."
   ]
  },
  {
   "cell_type": "code",
   "execution_count": 21,
   "id": "ce15d8a6",
   "metadata": {},
   "outputs": [],
   "source": [
    "shells = np.load(\"maps/mar_31/nside256_res100_len1000.npy\")"
   ]
  },
  {
   "cell_type": "code",
   "execution_count": 3,
   "id": "cdafb8d0",
   "metadata": {},
   "outputs": [],
   "source": [
    "nside = 256\n",
    "nfreqs = 32\n",
    "\n",
    "freqs = np.linspace(1.6e8 * unit.Hz, 1.8e8 * unit.Hz, nfreqs)\n",
    "redshifts = (f21 / freqs) - 1\n",
    "\n",
    "\n",
    "# must sort so that redshifts go in ascending order (opposite freq order)\n",
    "z_order = np.argsort(redshifts)\n",
    "f_order = np.argsort(freqs)\n",
    "redshifts = redshifts[z_order]\n",
    "redshifts = redshifts.to_value()\n",
    "freqs = freqs[z_order]\n"
   ]
  },
  {
   "cell_type": "markdown",
   "id": "153d08d4",
   "metadata": {},
   "source": [
    "### Calculate the angular cross-power spectrum between each shell. Because C_l(shell1, shell2) = C_l(shell2, shell1), we only calculate half of the total possible combinations."
   ]
  },
  {
   "cell_type": "code",
   "execution_count": 4,
   "id": "b8452ea4",
   "metadata": {},
   "outputs": [],
   "source": [
    "cross_spectrum = np.zeros((nfreqs, nfreqs, nside*3))\n",
    "for i in np.arange(shells.shape[0]):\n",
    "    for j in np.arange(i + 1):\n",
    "        cross_spectrum[i, j] = hp.sphtfunc.anafast(shells[i], shells[j])"
   ]
  },
  {
   "cell_type": "code",
   "execution_count": 5,
   "id": "182a5806",
   "metadata": {},
   "outputs": [],
   "source": [
    "# constants to be used in the equation for C_l(freq_1, freq_2) -> P(k_perp, k_los)\n",
    "z_c = np.mean(redshifts)\n",
    "r_c = cosmo.comoving_distance(z_c)\n",
    "dr_c = -3e8 * (unit.m / unit.s) * (1+z_c) ** 2 / (f21 * cosmo.H(z_c))\n",
    "dr_c = dr_c.to(unit.Mpc / unit.Hz)\n",
    "delta_delta_freq = (freqs[-1] - freqs[0]) / nfreqs \n",
    "delta_d = cosmo.comoving_distance(redshifts[-1]) - cosmo.comoving_distance(redshifts[0])"
   ]
  },
  {
   "cell_type": "markdown",
   "id": "838be970",
   "metadata": {},
   "source": [
    "### Create a dictionary of $\\Delta \\nu$: Each $\\Delta \\nu$ key contains a list of all the C_ls of shells with that frequency separation."
   ]
  },
  {
   "cell_type": "code",
   "execution_count": 10,
   "id": "51e3d175",
   "metadata": {},
   "outputs": [],
   "source": [
    "freq_dict = {}\n",
    "for (idx_1, freq_1) in enumerate(freqs):\n",
    "    for (idx_2, freq_2) in enumerate(freqs):\n",
    "        \n",
    "        # Round to avoid float equality issues.\n",
    "        delta_freq = np.abs((freq_1 - freq_2).to_value().round(4)) # C_l(freq1 - freq2) = C_l(freq2 - freq1) \n",
    "        \n",
    "        if np.any(cross_spectrum[idx_1][idx_2]):\n",
    "            if delta_freq not in freq_dict:\n",
    "                freq_dict[delta_freq] = [cross_spectrum[idx_1][idx_2]]\n",
    "            else:\n",
    "                freq_dict[delta_freq].append(cross_spectrum[idx_1][idx_2])\n",
    "\n",
    "n_delta_freq = len(freq_dict.keys())"
   ]
  },
  {
   "cell_type": "markdown",
   "id": "ca0e498e",
   "metadata": {},
   "source": [
    "### Calculate $C_l^{EP}$"
   ]
  },
  {
   "cell_type": "code",
   "execution_count": 11,
   "id": "845727dc",
   "metadata": {},
   "outputs": [],
   "source": [
    "# For an ergodic signal, all of the C_l's in a given bin should be equal\n",
    "# Average over each bin to reduce sample bias. \n",
    "C_ergs = np.asarray([np.mean(freq_dict[delta_freq], axis = 0) for delta_freq in freq_dict])"
   ]
  },
  {
   "cell_type": "markdown",
   "id": "fad9be85",
   "metadata": {},
   "source": [
    "### Determine valid k_perp and k_los"
   ]
  },
  {
   "cell_type": "code",
   "execution_count": 12,
   "id": "f83f7977",
   "metadata": {},
   "outputs": [],
   "source": [
    "box_len = 1000\n",
    "res = 100\n",
    "\n",
    "# npoints is somewhat arbitrary --determines the number of k_los bins.\n",
    "npoints = 32\n",
    "\n",
    "box_len = box_len * unit.Mpc\n",
    "\n",
    "lmax = nside * 3\n",
    "\n",
    "j=0\n",
    "while (j / r_c < 1 / box_len):\n",
    "    j+=1\n",
    "    if j > lmax:\n",
    "        print(\"box length is smaller than largest possible l.\")\n",
    "        break\n",
    "\n",
    "\n",
    "k_perp_min = (j / r_c).to_value()\n",
    "k_perp_max = (lmax / r_c).to_value()\n",
    "\n",
    "delta_shell = cosmo.comoving_distance(redshifts[1]) - cosmo.comoving_distance(redshifts[0])\n",
    "\n",
    "#1 convention\n",
    "if delta_d > box_len:\n",
    "    k_los_min = 2 * np.pi / box_len.to_value()\n",
    "else:\n",
    "    k_los_min = 2 * np.pi / delta_d.to_value()\n",
    "\n",
    "if delta_shell > (box_len / res):\n",
    "    k_los_max = 2* np.pi / delta_shell.to_value()\n",
    "else:\n",
    "    k_los_max = 2 * np.pi * (res / box_len).to_value()\n",
    "\n",
    "k_los = np.logspace(np.log10(k_los_min), np.log10(k_los_max), npoints) * (unit.Mpc) ** -1\n",
    "\n",
    "k_perp = (np.arange(lmax)[j::] / r_c)"
   ]
  },
  {
   "cell_type": "markdown",
   "id": "6c6a62f6",
   "metadata": {},
   "source": [
    "### Compute P(k_perp, k_los)"
   ]
  },
  {
   "cell_type": "code",
   "execution_count": 13,
   "id": "f04fd524",
   "metadata": {},
   "outputs": [],
   "source": [
    "pspec_rect_arr = np.empty((n_delta_freq, lmax - j, k_los.size), dtype=np.complex_)\n",
    "for idx, delta_freq in enumerate(freq_dict):\n",
    "    for l in (np.arange(j, lmax)):\n",
    "        for k_idx, k in enumerate(k_los):\n",
    "            pspec_rect_arr[idx, l - j, k_idx] = (delta_delta_freq * np.exp(-1j  * k * dr_c * delta_freq * unit.Hz) * C_ergs[idx][l])\n",
    "            \n",
    "pspec_rect_arr *= unit.Hz\n",
    "\n",
    "# Sum over all delta_freq, multiply by constants\n",
    "pspec_rect = r_c ** 2 * dr_c * np.sum(pspec_rect_arr, axis = 0)\n",
    "\n",
    "# Our result has a real and a complex part, but should only be real-valued.\n",
    "pspec_real = np.sqrt(pspec_rect * np.conj(pspec_rect)) # To get a real spectrum, we take the magnitude |P(k_perp, k_los)|\n",
    "pspec_real = np.real(pspec_real).to_value()"
   ]
  },
  {
   "cell_type": "markdown",
   "id": "1e1142ca",
   "metadata": {},
   "source": [
    "### Bin to get P(k) for an isotropic signal"
   ]
  },
  {
   "cell_type": "code",
   "execution_count": 14,
   "id": "44906da6",
   "metadata": {},
   "outputs": [],
   "source": [
    "k_los = k_los.to_value()\n",
    "k_perp = k_perp.to_value()\n",
    "\n",
    "#useful function for binning\n",
    "def find_nearest(array,value):\n",
    "    idx = (np.abs(array-value)).argmin() #bin centers\n",
    "    return idx\n",
    "\n",
    "npoints = 16 #npoints is again arbitrary, determines the number of |k| bins\n",
    "\n",
    "k_min = np.sqrt(k_los[0] ** 2 + k_perp[0] ** 2)\n",
    "k_max = np.sqrt(k_los[-1] ** 2 + k_perp[-1] ** 2)\n",
    "\n",
    "kmags = np.logspace(np.log10(k_min), np.log10(k_max), npoints) \n",
    "\n",
    "kbins = [[] for _ in np.arange(npoints)]\n",
    "\n",
    "\n",
    "for ls_idx, kls in enumerate(k_los):\n",
    "    for prp_idx, kprp in enumerate(k_perp):\n",
    "        k = np.sqrt(kls ** 2 + kprp ** 2)\n",
    "        kbins[find_nearest(kmags, k)].append(pspec_real[prp_idx, ls_idx])\n",
    "        \n",
    "pspec_binned = [np.mean(binned, axis=0) for binned in kbins]"
   ]
  },
  {
   "cell_type": "markdown",
   "id": "f05029c7",
   "metadata": {},
   "source": [
    "### The following code calculates the power spectrum directly from the data cube."
   ]
  },
  {
   "cell_type": "code",
   "execution_count": 16,
   "id": "4bfe0835",
   "metadata": {},
   "outputs": [],
   "source": [
    "def pspec_box(kmags, n, D):\n",
    "    #Box info\n",
    "    nx,ny,nz = n,n,n\n",
    "    D_trans_x = D #Mpc\n",
    "    D_trans_y = D #Mpc\n",
    "    D_los = D #Mpc\n",
    "\n",
    "    dV = (D_trans_x/nx)*(D_trans_y/ny)*(D_los/nz)\n",
    "    #k values; note 2pi to be consistent with cosmological Fourier convention\n",
    "    kprxs = np.fft.fftfreq(nx,D_trans_x/nx/(2*np.pi))\n",
    "    kprys = np.fft.fftfreq(ny,D_trans_y/ny/(2*np.pi))\n",
    "    kpls = np.fft.fftfreq(nz,D_los/nz/(2*np.pi))\n",
    "\n",
    "    kpls = kpls[:int(nz/2)] #b/c cube is real-value in configuration space, only half of k-space is independent\n",
    "    #binning params, chosen somewhat arbitrarily\n",
    "    #npoints = 20\n",
    "    # delta_k = 1e-2\n",
    "    # kmin = 1e-3 * 2 * np.pi\n",
    "    # kmax = 1e-1 * 2 * np.pi\n",
    "    # kmag = np.logspace(np.log10(kmin),np.log10(kmax),npoints)\n",
    "    kmag = kmags\n",
    "    print(kmags)\n",
    "    k_max = kmags[-1]\n",
    "    print(k_max)\n",
    "    pspec1d = np.zeros_like(kmag)\n",
    "    #generate the coordinates of the cube\n",
    "    crds = {}\n",
    "    for indk in kmag: crds[indk] = {'x': [], 'y': [], 'z': []}\n",
    "    for q, kprx in enumerate(kprxs):\n",
    "        for r, kpry in enumerate(kprys):\n",
    "            for s, kpl in enumerate(kpls):\n",
    "                k = np.sqrt(kpl**2 + kpry**2 + kprx**2)\n",
    "\n",
    "                if k > k_max: continue\n",
    "                indk = find_nearest(kmag,k)\n",
    "                crds[kmag[indk]]['x'].append(q)\n",
    "                crds[kmag[indk]]['y'].append(r)\n",
    "                crds[kmag[indk]]['z'].append(s)\n",
    "\n",
    "    cube = np.load(\"z7_45_res100_len1000.npy\")\n",
    "    #cube = np.random.normal(size = (128, 128, 128), scale=np.sqrt(16.92653506))\n",
    "    #important: pay attention to discrete FFT normalization factors\n",
    "    cube_k = np.fft.fftn(cube)*dV\n",
    "    Pk = cube_k * np.conj(cube_k) / (D_trans_x * D_trans_y * D_los)\n",
    "    Pk = Pk.real #no need for imaginary part once you've multiplied by complex conjugate\n",
    "    Pk = Pk[:,:,:int(nz/2)] #again, half of cube isn't independent\n",
    "    #do the binning\n",
    "    for ind, indk in enumerate(kmag):\n",
    "        pspec1d[ind] = np.mean(Pk[crds[indk]['x'],crds[indk]['y'],crds[indk]['z']])\n",
    "    return pspec1d"
   ]
  },
  {
   "cell_type": "code",
   "execution_count": 17,
   "id": "46840e0d",
   "metadata": {},
   "outputs": [
    {
     "name": "stdout",
     "output_type": "stream",
     "text": [
      "[0.01950758 0.02458582 0.03098603 0.03905235 0.0492185  0.06203112\n",
      " 0.07817913 0.09853082 0.12418048 0.15650729 0.19724946 0.24859767\n",
      " 0.31331291 0.3948749  0.49766921 0.62722306]\n",
      "0.6272230552875818\n"
     ]
    },
    {
     "name": "stderr",
     "output_type": "stream",
     "text": [
      "/users/dquinte1/anaconda/hp_env/lib/python3.11/site-packages/numpy/core/fromnumeric.py:3504: RuntimeWarning: Mean of empty slice.\n",
      "  return _methods._mean(a, axis=axis, dtype=dtype,\n",
      "/users/dquinte1/anaconda/hp_env/lib/python3.11/site-packages/numpy/core/_methods.py:129: RuntimeWarning: invalid value encountered in scalar divide\n",
      "  ret = ret.dtype.type(ret / rcount)\n"
     ]
    }
   ],
   "source": [
    "pspec1d = pspec_box(kmags, 100, 1000)"
   ]
  },
  {
   "cell_type": "code",
   "execution_count": 18,
   "id": "80c2a6c3",
   "metadata": {},
   "outputs": [
    {
     "data": {
      "text/plain": [
       "(16,)"
      ]
     },
     "execution_count": 18,
     "metadata": {},
     "output_type": "execute_result"
    }
   ],
   "source": [
    "pspec1d.shape"
   ]
  },
  {
   "cell_type": "markdown",
   "id": "c1208738",
   "metadata": {},
   "source": [
    "### Plot P_shells(k) and P_box(k)"
   ]
  },
  {
   "cell_type": "code",
   "execution_count": 19,
   "id": "21663f08",
   "metadata": {},
   "outputs": [
    {
     "data": {
      "text/plain": [
       "[<matplotlib.lines.Line2D at 0x7f24d0a2b950>]"
      ]
     },
     "execution_count": 19,
     "metadata": {},
     "output_type": "execute_result"
    },
    {
     "data": {
      "image/png": "[encoded data removed]",
      "text/plain": [
       "<Figure size 640x480 with 1 Axes>"
      ]
     },
     "metadata": {},
     "output_type": "display_data"
    }
   ],
   "source": [
    "plt.loglog(kmags, pspec_binned)\n",
    "plt.loglog(kmags, pspec1d)"
   ]
  },
  {
   "cell_type": "code",
   "execution_count": null,
   "id": "588a0ad8",
   "metadata": {},
   "outputs": [],
   "source": []
  }
 ],
 "metadata": {
  "kernelspec": {
   "display_name": "hp_env",
   "language": "python",
   "name": "hp_env"
  },
  "language_info": {
   "codemirror_mode": {
    "name": "ipython",
    "version": 3
   },
   "file_extension": ".py",
   "mimetype": "text/x-python",
   "name": "python",
   "nbconvert_exporter": "python",
   "pygments_lexer": "ipython3",
   "version": "3.11.7"
  }
 },
 "nbformat": 4,
 "nbformat_minor": 5
}
